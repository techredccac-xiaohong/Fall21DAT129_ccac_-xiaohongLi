{
 "cells": [
  {
   "cell_type": "code",
   "execution_count": null,
   "id": "da7ce65b",
   "metadata": {},
   "outputs": [],
   "source": [
    "# JSON: JavaScript Object Notation\n",
    "#reference elephent book 5.14 ; 9.5;  and Maya's json project\n",
    "#read in a data set as a CSV file and a JSON file encoding a filter criteria for records in your data set.\n",
    "#interpret the JSON file's contents to generate a JSON-encoded output file containing only the matching records."
   ]
  },
  {
   "cell_type": "code",
   "execution_count": null,
   "id": "b522defe",
   "metadata": {},
   "outputs": [],
   "source": [
    "import json\n",
    "import csv"
   ]
  },
  {
   "cell_type": "code",
   "execution_count": null,
   "id": "b480de5e",
   "metadata": {},
   "outputs": [],
   "source": [
    "# read in data set as a csv file\n",
    "def read_csv_data(csv_file):\n",
    "    data=[]\n",
    "    with open(csv_file, mode='r',newline=''):\n",
    "        reader = csv.DictReader(csv.file)\n",
    "        for record in reader:\n",
    "            if record['description_short']=='Removed':\n",
    "                data.append(record)\n",
    "    return data\n",
    "        \n",
    "    "
   ]
  },
  {
   "cell_type": "code",
   "execution_count": null,
   "id": "08ee3573",
   "metadata": {},
   "outputs": [],
   "source": [
    "#import json file and make sure file can find, otherwise tell the user file can not find.\n",
    "def json_validate(json_file):\n",
    "    with open(json_file,mode='r')as file:\n",
    "        json.load(file)\n",
    "        return True\n",
    "    except FileNotFoundError:\n",
    "        print('The file name you specified does not exist.')\n",
    "        return False\n",
    "    with open(json.file,mode='r')as criteria:\n",
    "        data=json.load(criteria)\n",
    "    return data"
   ]
  },
  {
   "cell_type": "code",
   "execution_count": null,
   "id": "8ca929f2",
   "metadata": {},
   "outputs": [],
   "source": [
    "def search_criteria():\n",
    "    criteria_list= json_validate('json_file_search.json')\n",
    "    data_record = read_csv_data('data_search.csv')\n",
    "    with open('joson_file_search.json',mode='w')as jsonfile\n",
    "       for data in data_record:\n",
    "            if data['grade']==criteria_list['grade']:\n",
    "                jsonfile.write(json.dump(data))\n",
    "            jsonfile.write('\\n')\n",
    "json_validate(json_file_search.json)\n",
    "search_criteria()"
   ]
  }
 ],
 "metadata": {
  "kernelspec": {
   "display_name": "Python 3",
   "language": "python",
   "name": "python3"
  },
  "language_info": {
   "codemirror_mode": {
    "name": "ipython",
    "version": 3
   },
   "file_extension": ".py",
   "mimetype": "text/x-python",
   "name": "python",
   "nbconvert_exporter": "python",
   "pygments_lexer": "ipython3",
   "version": "3.8.8"
  }
 },
 "nbformat": 4,
 "nbformat_minor": 5
}
