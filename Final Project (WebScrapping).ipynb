{
 "cells": [
  {
   "cell_type": "code",
   "execution_count": null,
   "id": "0211c777",
   "metadata": {},
   "outputs": [],
   "source": [
    "#Using Beautiful Soup write a python program to scrape website\n",
    "#reference Elephent Textbook machine learning \n",
    "#resource: https://www.imdb.com/chart/top\n",
    "# youtube Web Scraping in Python using Beautiful Soup"
   ]
  },
  {
   "cell_type": "code",
   "execution_count": null,
   "id": "5c15bede",
   "metadata": {},
   "outputs": [],
   "source": [
    "from bs4 import BeautifulSoup\n",
    "import requests,openpyxl\n"
   ]
  },
  {
   "cell_type": "code",
   "execution_count": null,
   "id": "bd9c6bd7",
   "metadata": {},
   "outputs": [],
   "source": [
    "excel=openpyxl.Workbook()\n",
    "print(excel.sheetnames)\n",
    "sheet=excel.active\n",
    "sheet.title='Top Rated Movies'\n",
    "print(excel.sheetnames)\n",
    "sheet.append(['Movie Rank','Movie Name','Year of Release','IMDB Rating'])"
   ]
  },
  {
   "cell_type": "code",
   "execution_count": null,
   "id": "2a434187",
   "metadata": {},
   "outputs": [],
   "source": [
    "try:\n",
    "    source= requests.get('https://www.imdb.com/chart/top')\n",
    "    source.raise_for_status()\n",
    "    soup = BeautifulSoup(source.text,'html.parser')\n",
    "    mobies=soup.find('tbody',class='lister-list').find_all('tr')\n",
    "    print(len(movies)\n",
    "    for movie in movies:\n",
    "          movie_name = movie.find('td', class='titleColumn').a.text\n",
    "          movie_rank = movie.find('td',class='titleColumn').get_text(strip=True).split('.')[0]\n",
    "          movie_year = movie.find('td',class='titleColumn').span.text.strip('()')\n",
    "          movie_rating = movie.find('td',class='ratingColumn imdbRating').strong.text\n",
    "          print(movie_name,movie_rank,movie_year,movie_rating)\n",
    "          break\n",
    "except Except as e:\n",
    "    print(e)\n",
    "excel.save('IMDB Movie Ratings.xlsx')\n",
    "    "
   ]
  }
 ],
 "metadata": {
  "kernelspec": {
   "display_name": "Python 3",
   "language": "python",
   "name": "python3"
  },
  "language_info": {
   "codemirror_mode": {
    "name": "ipython",
    "version": 3
   },
   "file_extension": ".py",
   "mimetype": "text/x-python",
   "name": "python",
   "nbconvert_exporter": "python",
   "pygments_lexer": "ipython3",
   "version": "3.8.8"
  }
 },
 "nbformat": 4,
 "nbformat_minor": 5
}
