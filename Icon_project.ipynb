{
 "cells": [
  {
   "cell_type": "code",
   "execution_count": 5,
   "id": "ae40f510",
   "metadata": {},
   "outputs": [],
   "source": [
    "#Reference Intro to python(Elephent book P187. 5.16)\n",
    "#Create a two_dimensional list with 10 rows and 10 columns(a 10 by 10 list) to display word matrix in grid\n",
    "icon_list = [[1,0,0,0,1,0,1,1,1,1],\n",
    "             [1,0,1,0,1,0,1,1,0,0],\n",
    "             [1,1,0,1,1,0,1,1,0,0],\n",
    "             [1,1,0,1,1,0,1,1,0,0],\n",
    "             [1,1,0,1,1,0,1,1,0,0],\n",
    "             [1,1,0,1,1,0,1,1,1,1],\n",
    "             [1,1,0,1,1,0,1,1,0,0],\n",
    "             [1,1,0,1,1,0,1,1,0,0],\n",
    "             [1,0,1,0,0,1,1,1,0,0],\n",
    "             [1,1,0,0,0,1,0,1,1,1]]"
   ]
  },
  {
   "cell_type": "code",
   "execution_count": 1,
   "id": "5a7ef07d",
   "metadata": {},
   "outputs": [],
   "source": [
    "#Use the nested loop to display the icon image, assign blank to icon element '0' and black_dot to element'1'\n",
    "def display_icon(icon_list,blank,black_dot):\n",
    "    for row in  icon_list:\n",
    "        for item in row:\n",
    "            if item == '0':\n",
    "                item = blank\n",
    "                \n",
    "            elif item == '1':\n",
    "                item = black_dot\n",
    "                \n",
    "            print(item,end=' ')\n",
    "        print()\n"
   ]
  },
  {
   "cell_type": "code",
   "execution_count": 2,
   "id": "1d46d0a7",
   "metadata": {},
   "outputs": [],
   "source": [
    "def inverted_icon(icon_list,blank,black_dot):\n",
    "    # get the length of the icon_list\n",
    "    n = len(icon_list)\n",
    "    for row in range(n):\n",
    "        for col in range(row,n):\n",
    "            icon_list[col][row],icon_list[row][col]= icon_list[row][col],icon_list[col][row]\n",
    "            if icon_list[row][col]== '1' or icon_list[col][row] == '1':\n",
    "               icon_list[row][col] = blank \n",
    "               icon_list[col][row] = blank\n",
    "            elif icon_list[row][col] == '0' or icon_list[col][row]  == '0':\n",
    "                icon_list[row][col] = black_dot\n",
    "                icon_list[col][row] = black_dot\n",
    "                \n",
    "    for i in range(n):\n",
    "        icon_list.reverse()"
   ]
  },
  {
   "cell_type": "code",
   "execution_count": 3,
   "id": "8b309acd",
   "metadata": {},
   "outputs": [],
   "source": [
    "def magnified_icon(icon_list,six_blank, _sixblack_dot):\n",
    "    for row in icon_list(): \n",
    "        for n in range(6):\n",
    "            for item in row:\n",
    "                if item == '0':\n",
    "                    item = '000000'\n",
    "                    item = _six_blank\n",
    "                elif item == '1':\n",
    "                    item = '111111'\n",
    "                    item = six_black_dot\n",
    "                print(item, end = ' ')\n",
    "            print()\n",
    "            "
   ]
  },
  {
   "cell_type": "code",
   "execution_count": null,
   "id": "ce0fefb6",
   "metadata": {},
   "outputs": [],
   "source": [
    "display_icon(icon_list)\n",
    "inverted_icon(icon_list,' ','&')\n",
    "magnified_icon(icon_list, '      ','&&&&&&')\n"
   ]
  }
 ],
 "metadata": {
  "kernelspec": {
   "display_name": "Python 3",
   "language": "python",
   "name": "python3"
  },
  "language_info": {
   "codemirror_mode": {
    "name": "ipython",
    "version": 3
   },
   "file_extension": ".py",
   "mimetype": "text/x-python",
   "name": "python",
   "nbconvert_exporter": "python",
   "pygments_lexer": "ipython3",
   "version": "3.8.8"
  }
 },
 "nbformat": 4,
 "nbformat_minor": 5
}
