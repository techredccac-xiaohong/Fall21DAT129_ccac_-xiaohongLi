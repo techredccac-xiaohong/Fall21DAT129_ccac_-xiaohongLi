{
 "cells": [
  {
   "cell_type": "code",
   "execution_count": null,
   "id": "941b4d6e",
   "metadata": {},
   "outputs": [],
   "source": []
  },
  {
   "cell_type": "code",
   "execution_count": 9,
   "id": "7b07ffad",
   "metadata": {},
   "outputs": [],
   "source": [
    "#Allegheny County 911 ... 911 Fire Dispatches\n",
    "#get your file parsing of the EMS dispatch calls to display\n",
    "#at least a tally of redactions by year, perhaps even a percentage\n",
    "#reference intro to python(elephent textbook) 9.12 working with csv files\n",
    "import pandas as pd\n",
    "import csv"
   ]
  },
  {
   "cell_type": "code",
   "execution_count": 7,
   "id": "975fa32f",
   "metadata": {
    "scrolled": false
   },
   "outputs": [],
   "source": [
    "# import the raw dataset from file path\n",
    "def get_raw_data( ):\n",
    "    raw_data = pd.read_csv('C:\\\\Users\\\\xiaoh\\\\Desktop\\\\DAT129-NC01-Python2\\\\EMS_project' + 'EMS_DATA.csv')\n",
    "    return raw_data\n",
    "    "
   ]
  },
  {
   "cell_type": "code",
   "execution_count": null,
   "id": "339f4da0",
   "metadata": {},
   "outputs": [],
   "source": [
    "#Test EMS dispatch record \n",
    "def check_for_redacted(ems_data):\n",
    "   #pass the raw data from function get_raw_data to this function\n",
    "   ems_data = get_raw_data()\n",
    "   #Create a list to hold redacted calls\n",
    "    call_list = []\n",
    "    for record in ems_data:\n",
    "        if record['description_short']=='Removed':\n",
    "            calls_list = call_list.append(record['call_year'])\n",
    "    return calls_list"
   ]
  },
  {
   "cell_type": "code",
   "execution_count": null,
   "id": "f44f1c9c",
   "metadata": {},
   "outputs": [],
   "source": [
    "def yearly_calls_total():\n",
    "    calls_list = check_for_redacted()\n",
    "    years_list = []\n",
    "    for call in calls_list:\n",
    "        call_years = call['call_year']\n",
    "        if call['call_year'] in years_list:\n",
    "            years_list[call_year]= years_list[call_year] + 1\n",
    "        else:\n",
    "            years_list.update([call_year:1])\n",
    "            "
   ]
  },
  {
   "cell_type": "code",
   "execution_count": null,
   "id": "d04cbf3d",
   "metadata": {},
   "outputs": [],
   "source": [
    "get_raw_data()\n",
    "chek_for_redacted()\n",
    "yearly_calls_total()"
   ]
  }
 ],
 "metadata": {
  "kernelspec": {
   "display_name": "Python 3",
   "language": "python",
   "name": "python3"
  },
  "language_info": {
   "codemirror_mode": {
    "name": "ipython",
    "version": 3
   },
   "file_extension": ".py",
   "mimetype": "text/x-python",
   "name": "python",
   "nbconvert_exporter": "python",
   "pygments_lexer": "ipython3",
   "version": "3.8.8"
  }
 },
 "nbformat": 4,
 "nbformat_minor": 5
}
