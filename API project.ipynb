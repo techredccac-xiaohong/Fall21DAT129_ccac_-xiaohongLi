{
 "cells": [
  {
   "cell_type": "code",
   "execution_count": null,
   "id": "ae32aadc",
   "metadata": {},
   "outputs": [],
   "source": [
    "#API\n",
    "#reference : https://www.youtube.com/watch?v=6mT3r8Qn1VY, elephent textbook filter, mapping.....\n",
    "#root data resources: https://catalog.data.gov/harvest/https-data-cdc-gov-data-json\n",
    "#https://data.cdc.gov/api/views/unsk-b7fc/rows.json?accessType=DOWNLOAD"
   ]
  },
  {
   "cell_type": "code",
   "execution_count": 2,
   "id": "faa0a9e5",
   "metadata": {},
   "outputs": [],
   "source": [
    "import requests\n",
    "import json\n",
    "import pandas as pd\n",
    "import matplotlib as plt"
   ]
  },
  {
   "cell_type": "code",
   "execution_count": 3,
   "id": "3e59126f",
   "metadata": {},
   "outputs": [],
   "source": [
    "def get_data_api():\n",
    "    vaccination_data = requests.get(\"https://data.cdc.gov/api/views/unsk-b7fc/rows.json?accessType=DOWNLOAD\")\n",
    "    print(vaccination_data)    "
   ]
  },
  {
   "cell_type": "code",
   "execution_count": 6,
   "id": "d2bae8d8",
   "metadata": {},
   "outputs": [
    {
     "name": "stdout",
     "output_type": "stream",
     "text": [
      "<Response [200]>\n"
     ]
    }
   ],
   "source": [
    "get_data_api()"
   ]
  },
  {
   "cell_type": "code",
   "execution_count": null,
   "id": "e2f6ada2",
   "metadata": {},
   "outputs": [],
   "source": [
    "def filter_data():\n",
    "    data=get_data_api()\n",
    "    data.drop(['Date','MMWR_week','Distributed_Unk_Manuf','Dist_Per_100k','Distributed_per_100k12Plus','Distributed_per_100k18Plus','Distributed_per_100k65Plus',\n",
    "              'Administered','Administered_12Plus','Administered_18Plus','Administered_65Plus','Administered_Unk_Manuf','Admin_Per_100k','Admin_per_100k_12Plus',\n",
    "               'Admin_per_100k_18Plus','Admin_per_100k_65Plus',])\n",
    "    #convert to numeric\n",
    "    data['Series_complete_Yes']=pd.to_numeric(data)\n",
    "    data.set_index('location',inplace=true)\n",
    "    data[Distributed]\n",
    "    return data"
   ]
  },
  {
   "cell_type": "code",
   "execution_count": null,
   "id": "fa09c82b",
   "metadata": {},
   "outputs": [],
   "source": [
    "def plot_data():\n",
    "    data=filter_data()\n",
    "    plt.figure(figsize=(15,6))\n",
    "    plt.title('Covid_19 vaccinated,states')\n",
    "    plt.ylabel('Population of vaccinated')\n",
    "    data.plot()"
   ]
  },
  {
   "cell_type": "code",
   "execution_count": null,
   "id": "2f7cc019",
   "metadata": {},
   "outputs": [],
   "source": [
    "get_data_api()\n",
    "filter_data()\n",
    "plot_data()"
   ]
  }
 ],
 "metadata": {
  "kernelspec": {
   "display_name": "Python 3",
   "language": "python",
   "name": "python3"
  },
  "language_info": {
   "codemirror_mode": {
    "name": "ipython",
    "version": 3
   },
   "file_extension": ".py",
   "mimetype": "text/x-python",
   "name": "python",
   "nbconvert_exporter": "python",
   "pygments_lexer": "ipython3",
   "version": "3.8.8"
  }
 },
 "nbformat": 4,
 "nbformat_minor": 5
}
